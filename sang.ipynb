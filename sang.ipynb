{
 "cells": [
  {
   "cell_type": "code",
   "execution_count": 71,
   "metadata": {},
   "outputs": [],
   "source": [
    "import random\n",
    "def player1():\n",
    "    list1 = [\"ghaichi\", \"sang\",\"kaghz\"]\n",
    "    return random.choice(list1)"
   ]
  },
  {
   "cell_type": "code",
   "execution_count": 72,
   "metadata": {},
   "outputs": [],
   "source": [
    "def player2():\n",
    "    list2 = [\"ghaichi\", \"sang\",\"kaghz\"]\n",
    "    return random.choice(list2)"
   ]
  },
  {
   "cell_type": "code",
   "execution_count": 73,
   "metadata": {},
   "outputs": [],
   "source": [
    "a=player1()\n",
    "b=player2()"
   ]
  },
  {
   "cell_type": "code",
   "execution_count": 74,
   "metadata": {},
   "outputs": [],
   "source": [
    "def play():\n",
    "    if a == b :\n",
    "        return print(\"mosavi\")\n",
    "    elif a=='sang' and b=='ghaichi':\n",
    "        return print('player1 barandeh')\n",
    "    elif a=='ghaichi' and b=='sang':\n",
    "        return print('player2 barandeh')\n",
    "    elif a=='sang' and  b=='kaghz':\n",
    "        return print(\"player2 barandeh\")\n",
    "    elif a=='kaghz' and b=='sang':\n",
    "        return print(\"player1 barandeh\")\n",
    "    elif a=='ghaichi' and b=='kaghz':\n",
    "        return print(\"player1 barandeh\") \n",
    "    elif a=='kaghz' and b=='ghaichi':\n",
    "        return print(\"player2 barandeh\") "
   ]
  },
  {
   "cell_type": "code",
   "execution_count": 75,
   "metadata": {},
   "outputs": [
    {
     "name": "stdout",
     "output_type": "stream",
     "text": [
      "ghaichi play(sang kaghaz ghaichi) sang\n",
      "player2 barandeh\n"
     ]
    }
   ],
   "source": [
    "print(a,\"play(sang kaghaz ghaichi)\",b)\n",
    "play()"
   ]
  },
  {
   "cell_type": "code",
   "execution_count": 76,
   "metadata": {},
   "outputs": [],
   "source": [
    "def game():\n",
    "    player1()\n",
    "    player2()\n",
    "    a=player1()\n",
    "    b=player2()\n",
    "    play()"
   ]
  },
  {
   "cell_type": "code",
   "execution_count": 77,
   "metadata": {},
   "outputs": [
    {
     "name": "stdout",
     "output_type": "stream",
     "text": [
      "player2 barandeh\n"
     ]
    }
   ],
   "source": [
    "game()"
   ]
  },
  {
   "cell_type": "code",
   "execution_count": null,
   "metadata": {},
   "outputs": [],
   "source": []
  }
 ],
 "metadata": {
  "kernelspec": {
   "display_name": "Python 3",
   "language": "python",
   "name": "python3"
  },
  "language_info": {
   "codemirror_mode": {
    "name": "ipython",
    "version": 3
   },
   "file_extension": ".py",
   "mimetype": "text/x-python",
   "name": "python",
   "nbconvert_exporter": "python",
   "pygments_lexer": "ipython3",
   "version": "3.6.13"
  }
 },
 "nbformat": 4,
 "nbformat_minor": 2
}
